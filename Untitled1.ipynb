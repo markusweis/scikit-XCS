{
 "cells": [
  {
   "cell_type": "code",
   "execution_count": 31,
   "metadata": {},
   "outputs": [],
   "source": [
    "from skXCS import XCS\n",
    "from skXCS import StringEnumerator\n",
    "\n",
    "import numpy as np\n",
    "import pandas as pd\n",
    "\n",
    "import matplotlib.pyplot as plt\n",
    "from sklearn.model_selection import cross_val_score\n",
    "\n",
    "from mlxtend.evaluate import paired_ttest_5x2cv"
   ]
  },
  {
   "cell_type": "code",
   "execution_count": 2,
   "metadata": {},
   "outputs": [],
   "source": [
    "dataPath = \"test/DataSets/Real/Multiplexer6Modified.csv\"\n",
    "converter = StringEnumerator(dataPath,\"Class\")\n",
    "headers, classLabel, dataFeatures, dataActions = converter.get_params()"
   ]
  },
  {
   "cell_type": "code",
   "execution_count": 35,
   "metadata": {},
   "outputs": [],
   "source": [
    "clf_inv_var_continous_update = XCS(learning_iterations=4000, N=500, do_action_set_subsumption=True, mixing_method=\"inv-var-continous-update\")\n",
    "clf_inv_var_only_mixing = XCS(learning_iterations=4000, N=500, do_action_set_subsumption=True, mixing_method=\"inv-var-only-mixing\")\n",
    "clf_evenly_distributed = XCS(learning_iterations=4000, N=500, do_action_set_subsumption=True, mixing_method=\"evenly-distributed\")\n",
    "clf_normal = XCS(learning_iterations=4000, N=500, do_action_set_subsumption=True, mixing_method=\"normal\")"
   ]
  },
  {
   "cell_type": "markdown",
   "metadata": {},
   "source": [
    "<div id='6-bit-training'/>\n",
    "\n",
    "### Training accuracy"
   ]
  },
  {
   "cell_type": "code",
   "execution_count": 11,
   "metadata": {},
   "outputs": [],
   "source": [
    "score_inv_var_continous_update = []\n",
    "score_inv_var_only_mixing = []\n",
    "score_evenly_distributed = []\n",
    "score_normal = []"
   ]
  },
  {
   "cell_type": "code",
   "execution_count": 12,
   "metadata": {
    "tags": [
     "outputPrepend"
    ]
   },
   "outputs": [
    {
     "name": "stdout",
     "output_type": "stream",
     "text": [
      "Final training accuracy of clf_inv_var_continous_update is 0.92\n",
      "Final training accuracy of clf_inv_var_only_mixing  is 0.73\n",
      "Final training accuracy of clf_evenly_distributed is 0.88\n",
      "Final training accuracy of clf_normal is 1.00\n"
     ]
    }
   ],
   "source": [
    "for i in range(5):\n",
    "    clf_inv_var_continous_update.fit(dataFeatures, dataActions)\n",
    "    clf_inv_var_only_mixing .fit(dataFeatures, dataActions)\n",
    "    clf_evenly_distributed.fit(dataFeatures, dataActions)\n",
    "    clf_normal.fit(dataFeatures, dataActions)\n",
    "    \n",
    "    score_inv_var_continous_update.append(clf_inv_var_continous_update.get_final_training_accuracy())\n",
    "    score_inv_var_only_mixing.append( clf_inv_var_only_mixing .get_final_training_accuracy())\n",
    "    score_evenly_distributed.append(clf_evenly_distributed.get_final_training_accuracy())\n",
    "    score_normal.append(clf_normal.get_final_training_accuracy())\n",
    "\n",
    "\n",
    "print(\"Final training accuracy of clf_inv_var_continous_update is %.2f\" % (np.mean(score_inv_var_continous_update)))\n",
    "print(\"Final training accuracy of clf_inv_var_only_mixing  is %.2f\" %(np.mean(score_inv_var_only_mixing))) \n",
    "print(\"Final training accuracy of clf_evenly_distributed is %.2f\" %(np.mean(score_evenly_distributed)))\n",
    "print(\"Final training accuracy of clf_normal is %.2f\" %(np.mean(score_normal)))\n"
   ]
  },
  {
   "cell_type": "markdown",
   "metadata": {},
   "source": [
    "<div id='6-bit-cross'/>\n",
    "\n",
    "\n",
    "### Cross-validation"
   ]
  },
  {
   "cell_type": "code",
   "execution_count": 22,
   "metadata": {},
   "outputs": [],
   "source": [
    "number_folds = 5\n",
    "iterations = 3\n",
    "\n",
    "\n",
    "score_inv_var_continous_update = []\n",
    "score_inv_var_only_mixing = []\n",
    "score_evenly_distributed = []\n",
    "score_normal = []\n",
    "\n",
    "for i in range(iterations):\n",
    "    score_inv_var_continous_update.extend(cross_val_score(clf_inv_var_continous_update, dataFeatures, dataActions, n_jobs=-1, cv=number_folds))\n",
    "    score_inv_var_only_mixing.extend(cross_val_score(clf_inv_var_only_mixing , dataFeatures, dataActions, n_jobs=-1, cv=number_folds))\n",
    "    score_evenly_distributed.extend(cross_val_score(clf_evenly_distributed, dataFeatures, dataActions, n_jobs=-1, cv=number_folds))\n",
    "    score_normal.extend(cross_val_score(clf_normal, dataFeatures, dataActions, n_jobs=-1, cv=number_folds))\n",
    "\n"
   ]
  },
  {
   "cell_type": "code",
   "execution_count": 23,
   "metadata": {},
   "outputs": [
    {
     "name": "stdout",
     "output_type": "stream",
     "text": [
      "Cross validation score of clf_inv_var_continous_update is 0.83\n",
      "Cross validation score of clf_inv_var_only_mixing  is 0.70\n",
      "Cross validation score of clf_evenly_distributed is 0.88\n",
      "Cross validation score of clf_normal is 0.98\n"
     ]
    }
   ],
   "source": [
    "print(\"Cross validation score of clf_inv_var_continous_update is %.2f\" % (np.mean(score_inv_var_continous_update)))\n",
    "print(\"Cross validation score of clf_inv_var_only_mixing  is %.2f\" %(np.mean(score_inv_var_only_mixing))) \n",
    "print(\"Cross validation score of clf_evenly_distributed is %.2f\" %(np.mean(score_evenly_distributed)))\n",
    "print(\"Cross validation score of clf_normal is %.2f\" %(np.mean(score_normal)))"
   ]
  },
  {
   "cell_type": "markdown",
   "metadata": {},
   "source": [
    "<div id='6-bit-boxplot'>\n",
    "\n",
    "### Boxplot"
   ]
  },
  {
   "cell_type": "code",
   "execution_count": null,
   "metadata": {},
   "outputs": [],
   "source": [
    "def printBoxplot(scores_inv_var, scores):\n",
    "    fig, (ax1, ax2) = plt.subplots(ncols=2, sharey=True)\n",
    "\n",
    "    ax1.boxplot(scores_inv_var)\n",
    "    ax1.set_title(\"inv-var\")\n",
    "    ax2.boxplot(scores)\n",
    "    ax2.set_title(\"normal xcs\")"
   ]
  },
  {
   "cell_type": "code",
   "execution_count": 26,
   "metadata": {},
   "outputs": [
    {
     "data": {
      "image/png": "[encoded data removed]",
      "text/plain": [
       "<Figure size 1440x360 with 4 Axes>"
      ]
     },
     "metadata": {
      "needs_background": "light"
     },
     "output_type": "display_data"
    }
   ],
   "source": [
    "fig, (ax1, ax2, ax3, ax4) = plt.subplots(ncols=4, sharey=True, figsize=(20,5))\n",
    "\n",
    "ax1.boxplot(score_inv_var_continous_update)\n",
    "ax1.set_title(\"inv-var-continous-update\")\n",
    "ax2.boxplot(score_inv_var_only_mixing)\n",
    "ax2.set_title(\"inv-var-only-mixing\")\n",
    "ax3.boxplot(score_evenly_distributed)\n",
    "ax3.set_title(\"evenly-distributed\")\n",
    "ax4.boxplot(score_normal)\n",
    "ax4.set_title(\"normal\");"
   ]
  },
  {
   "cell_type": "markdown",
   "metadata": {},
   "source": [
    "<div id='6-bit-ttest'>\n",
    "\n",
    "### T-Test"
   ]
  },
  {
   "cell_type": "code",
   "execution_count": 56,
   "metadata": {},
   "outputs": [
    {
     "data": {
      "text/plain": [
       "array([[0.00000000e+00, 1.44957512e-03, 6.81381307e-02, 3.17071765e-02],\n",
       "       [0.00000000e+00, 0.00000000e+00, 2.30790375e-04, 1.98544826e-05],\n",
       "       [0.00000000e+00, 0.00000000e+00, 0.00000000e+00, 7.40314261e-01],\n",
       "       [0.00000000e+00, 0.00000000e+00, 0.00000000e+00, 0.00000000e+00]])"
      ]
     },
     "execution_count": 56,
     "metadata": {},
     "output_type": "execute_result"
    }
   ],
   "source": [
    "clfs = [clf_inv_var_continous_update, clf_inv_var_only_mixing, clf_evenly_distributed, clf_normal]\n",
    "\n",
    "clfs[2].fit(dataFeatures, dataActions)\n",
    "\n",
    "matrix = np.zeros((4,4))\n",
    "\n",
    "for i, clf1 in enumerate(clfs):\n",
    "    for j, clf2 in enumerate(clfs):\n",
    "        if j >= i:\n",
    "            break\n",
    "        t, p = paired_ttest_5x2cv(estimator1=clf1, estimator2=clf2, X=dataFeatures, y=dataActions)\n",
    "        matrix[j, i] = p\n",
    "        \n",
    "\n"
   ]
  },
  {
   "cell_type": "code",
   "execution_count": 57,
   "metadata": {},
   "outputs": [
    {
     "data": {
      "text/html": [
       "<style  type=\"text/css\" >\n",
       "#T_56a0b56e_185c_11eb_a556_b42e99c3f6acrow0_col1,#T_56a0b56e_185c_11eb_a556_b42e99c3f6acrow0_col3,#T_56a0b56e_185c_11eb_a556_b42e99c3f6acrow1_col2,#T_56a0b56e_185c_11eb_a556_b42e99c3f6acrow1_col3{\n",
       "            background-color :  yellow;\n",
       "        }</style><table id=\"T_56a0b56e_185c_11eb_a556_b42e99c3f6ac\" ><thead>    <tr>        <th class=\"blank level0\" ></th>        <th class=\"col_heading level0 col0\" >inv-var-continous-update</th>        <th class=\"col_heading level0 col1\" >inv-var-only-mixing</th>        <th class=\"col_heading level0 col2\" >evenly-distributed</th>        <th class=\"col_heading level0 col3\" >normal</th>    </tr></thead><tbody>\n",
       "                <tr>\n",
       "                        <th id=\"T_56a0b56e_185c_11eb_a556_b42e99c3f6aclevel0_row0\" class=\"row_heading level0 row0\" >inv-var-continous-update</th>\n",
       "                        <td id=\"T_56a0b56e_185c_11eb_a556_b42e99c3f6acrow0_col0\" class=\"data row0 col0\" >0.000000</td>\n",
       "                        <td id=\"T_56a0b56e_185c_11eb_a556_b42e99c3f6acrow0_col1\" class=\"data row0 col1\" >0.001450</td>\n",
       "                        <td id=\"T_56a0b56e_185c_11eb_a556_b42e99c3f6acrow0_col2\" class=\"data row0 col2\" >0.068138</td>\n",
       "                        <td id=\"T_56a0b56e_185c_11eb_a556_b42e99c3f6acrow0_col3\" class=\"data row0 col3\" >0.031707</td>\n",
       "            </tr>\n",
       "            <tr>\n",
       "                        <th id=\"T_56a0b56e_185c_11eb_a556_b42e99c3f6aclevel0_row1\" class=\"row_heading level0 row1\" >inv-var-only-mixing</th>\n",
       "                        <td id=\"T_56a0b56e_185c_11eb_a556_b42e99c3f6acrow1_col0\" class=\"data row1 col0\" >0.000000</td>\n",
       "                        <td id=\"T_56a0b56e_185c_11eb_a556_b42e99c3f6acrow1_col1\" class=\"data row1 col1\" >0.000000</td>\n",
       "                        <td id=\"T_56a0b56e_185c_11eb_a556_b42e99c3f6acrow1_col2\" class=\"data row1 col2\" >0.000231</td>\n",
       "                        <td id=\"T_56a0b56e_185c_11eb_a556_b42e99c3f6acrow1_col3\" class=\"data row1 col3\" >0.000020</td>\n",
       "            </tr>\n",
       "            <tr>\n",
       "                        <th id=\"T_56a0b56e_185c_11eb_a556_b42e99c3f6aclevel0_row2\" class=\"row_heading level0 row2\" >evenly-distributed</th>\n",
       "                        <td id=\"T_56a0b56e_185c_11eb_a556_b42e99c3f6acrow2_col0\" class=\"data row2 col0\" >0.000000</td>\n",
       "                        <td id=\"T_56a0b56e_185c_11eb_a556_b42e99c3f6acrow2_col1\" class=\"data row2 col1\" >0.000000</td>\n",
       "                        <td id=\"T_56a0b56e_185c_11eb_a556_b42e99c3f6acrow2_col2\" class=\"data row2 col2\" >0.000000</td>\n",
       "                        <td id=\"T_56a0b56e_185c_11eb_a556_b42e99c3f6acrow2_col3\" class=\"data row2 col3\" >0.740314</td>\n",
       "            </tr>\n",
       "            <tr>\n",
       "                        <th id=\"T_56a0b56e_185c_11eb_a556_b42e99c3f6aclevel0_row3\" class=\"row_heading level0 row3\" >normal</th>\n",
       "                        <td id=\"T_56a0b56e_185c_11eb_a556_b42e99c3f6acrow3_col0\" class=\"data row3 col0\" >0.000000</td>\n",
       "                        <td id=\"T_56a0b56e_185c_11eb_a556_b42e99c3f6acrow3_col1\" class=\"data row3 col1\" >0.000000</td>\n",
       "                        <td id=\"T_56a0b56e_185c_11eb_a556_b42e99c3f6acrow3_col2\" class=\"data row3 col2\" >0.000000</td>\n",
       "                        <td id=\"T_56a0b56e_185c_11eb_a556_b42e99c3f6acrow3_col3\" class=\"data row3 col3\" >0.000000</td>\n",
       "            </tr>\n",
       "    </tbody></table>"
      ],
      "text/plain": [
       "<pandas.io.formats.style.Styler at 0x1cbccdb3c48>"
      ]
     },
     "execution_count": 57,
     "metadata": {},
     "output_type": "execute_result"
    }
   ],
   "source": [
    "names = [\"inv-var-continous-update\", \"inv-var-only-mixing\", \"evenly-distributed\", \"normal\" ]\n",
    "df = pd.DataFrame(matrix, columns=names, index=names)\n",
    "df.style.applymap(lambda x: 'background-color : yellow' if x < 0.05 and not x == 0.0 else '')"
   ]
  },
  {
   "cell_type": "code",
   "execution_count": null,
   "metadata": {},
   "outputs": [],
   "source": []
  }
 ],
 "metadata": {
  "kernelspec": {
   "display_name": "Python 3",
   "language": "python",
   "name": "python3"
  },
  "language_info": {
   "codemirror_mode": {
    "name": "ipython",
    "version": 3
   },
   "file_extension": ".py",
   "mimetype": "text/x-python",
   "name": "python",
   "nbconvert_exporter": "python",
   "pygments_lexer": "ipython3",
   "version": "3.7.5"
  }
 },
 "nbformat": 4,
 "nbformat_minor": 4
}
